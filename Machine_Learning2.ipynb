{
  "cells": [
    {
      "cell_type": "markdown",
      "metadata": {
        "id": "JLrtEVrotwct"
      },
      "source": [
        "# Assignment8"
      ]
    },
    {
      "cell_type": "code",
      "execution_count": 1,
      "metadata": {
        "collapsed": true,
        "id": "MAr_G9qatwcx"
      },
      "outputs": [],
      "source": [
        "import pandas as pd\n",
        "import numpy as np\n",
        "import matplotlib.pyplot as plt\n",
        "import itertools\n",
        "from sklearn import linear_model,preprocessing,pipeline"
      ]
    },
    {
      "cell_type": "markdown",
      "metadata": {
        "id": "BK7n0zV3twcy"
      },
      "source": [
        "# How Much is Your Car Worth?\n",
        "\n",
        "Data about the retail price of 2005 General Motors cars can be found in `car_data.csv`.\n",
        "\n",
        "The columns are:\n",
        "\n",
        "1. Price: suggested retail price of the used 2005 GM car in excellent condition.\n",
        "2. Mileage: number of miles the car has been driven\n",
        "3. Make: manufacturer of the car such as Saturn, Pontiac, and Chevrolet\n",
        "4. Model: specific models for each car manufacturer such as Ion, Vibe, Cavalier\n",
        "5. Trim (of car): specific type of car model such as SE Sedan 4D, Quad Coupe 2D          \n",
        "6. Type: body type such as sedan, coupe, etc.      \n",
        "7. Cylinder: number of cylinders in the engine        \n",
        "8. Liter: a more specific measure of engine size     \n",
        "9. Doors: number of doors           \n",
        "10. Cruise: indicator variable representing whether the car has cruise control (1 = cruise)\n",
        "11. Sound: indicator variable representing whether the car has upgraded speakers (1 = upgraded)\n",
        "12. Leather: indicator variable representing whether the car has leather seats (1 = leather)\n",
        "\n",
        "## Tasks, Part 1\n",
        "\n",
        "1. Find the linear regression equation for mileage vs price.\n",
        "2. Chart the original data and the equation on the chart.\n",
        "3. Find the equation's $R^2$ score (use the `.score` method) to determine whether the\n",
        "equation is a good fit for this data. (0.8 and greater is considered a strong correlation.)\n",
        "\n",
        "## Tasks, Part 2\n",
        "\n",
        "1. Use mileage, cylinders, liters, doors, cruise, sound, and leather to find the linear regression equation.\n",
        "2. Find the equation's $R^2$ score (use the `.score` method) to determine whether the\n",
        "equation is a good fit for this data. (0.8 and greater is considered a strong correlation.)\n",
        "3. Find the combination of the factors that is the best predictor for price.\n",
        "\n",
        "## Tasks, Hard Mode\n",
        "\n",
        "1. Research dummy variables in scikit-learn to see how to use the make, model, and body type.\n",
        "2. Find the best combination of factors to predict price."
      ]
    },
    {
      "cell_type": "code",
      "execution_count": 2,
      "metadata": {
        "id": "29m8q-Xwtwc0"
      },
      "outputs": [],
      "source": [
        "df=pd.read_csv(\"car_data.csv\")"
      ]
    },
    {
      "cell_type": "code",
      "source": [
        "x1=df[[\"Mileage\"]]\n",
        "y1=df[\"Price\"]\n",
        "reg=linear_model.LinearRegression()\n",
        "reg.fit(x1,y1)\n",
        "y1_predic=reg.predict(x1)\n",
        "print(\"y={}x+{}\".format(reg.coef_[0],reg.intercept_))\n",
        "plt.scatter(x1,y1)\n",
        "plt.xlabel(\"Mileage\")\n",
        "plt.ylabel(\"Price\")\n",
        "plt.plot(x1,y1_predic,color=\"red\")\n",
        "plt.show()"
      ],
      "metadata": {
        "colab": {
          "base_uri": "https://localhost:8080/",
          "height": 296
        },
        "id": "Y0FmO5ZDvXK6",
        "outputId": "1e7c99a8-8ae9-46a2-976c-03e07a7f5427"
      },
      "execution_count": 3,
      "outputs": [
        {
          "output_type": "stream",
          "name": "stdout",
          "text": [
            "y=-0.1725205027912493x+24764.559006061685\n"
          ]
        },
        {
          "output_type": "display_data",
          "data": {
            "text/plain": [
              "<Figure size 432x288 with 1 Axes>"
            ],
            "image/png": "[encoded data removed]"
          },
          "metadata": {
            "needs_background": "light"
          }
        }
      ]
    },
    {
      "cell_type": "code",
      "source": [
        "reg.score(x1,y1)"
      ],
      "metadata": {
        "colab": {
          "base_uri": "https://localhost:8080/"
        },
        "id": "5bJfLNRUwDi6",
        "outputId": "35bd0b4b-17cf-4985-bbdd-848594c83967"
      },
      "execution_count": 4,
      "outputs": [
        {
          "output_type": "execute_result",
          "data": {
            "text/plain": [
              "0.02046344732348926"
            ]
          },
          "metadata": {},
          "execution_count": 4
        }
      ]
    },
    {
      "cell_type": "code",
      "source": [
        "x2=df[[\"Mileage\",\"Cylinder\",\"Liter\",\"Doors\",\"Cruise\",\"Sound\",\"Leather\"]]\n",
        "y2=df[\"Price\"]\n",
        "reg=linear_model.LinearRegression()\n",
        "reg.fit(x2,y2)"
      ],
      "metadata": {
        "colab": {
          "base_uri": "https://localhost:8080/"
        },
        "id": "cd9m9vnlwEnk",
        "outputId": "7361b343-40ac-4e85-afa4-6030d85e5f6b"
      },
      "execution_count": 5,
      "outputs": [
        {
          "output_type": "execute_result",
          "data": {
            "text/plain": [
              "LinearRegression()"
            ]
          },
          "metadata": {},
          "execution_count": 5
        }
      ]
    },
    {
      "cell_type": "code",
      "source": [
        "reg.score(x2,y2)"
      ],
      "metadata": {
        "colab": {
          "base_uri": "https://localhost:8080/"
        },
        "id": "FzlPwYIFzZZp",
        "outputId": "f3f761b5-9ce7-4dad-bccf-49c963811efd"
      },
      "execution_count": 6,
      "outputs": [
        {
          "output_type": "execute_result",
          "data": {
            "text/plain": [
              "0.4462643536728379"
            ]
          },
          "metadata": {},
          "execution_count": 6
        }
      ]
    },
    {
      "cell_type": "code",
      "source": [
        "df1=df.select_dtypes(\"object\")\n",
        "enc=preprocessing.OneHotEncoder()\n",
        "df2=pd.DataFrame(enc.fit_transform(df1).toarray(),columns=enc.get_feature_names_out())\n",
        "df3=df.drop(columns=[\"Make\",\"Model\",\"Trim\",\"Type\"])\n",
        "df3=df3.join(df2)"
      ],
      "metadata": {
        "id": "DhRA8qaszb92"
      },
      "execution_count": 7,
      "outputs": []
    },
    {
      "cell_type": "code",
      "source": [
        "df3.drop(columns=['Make_Buick','Model_9-2X AWD','Trim_AWD Sportwagon 4D','Type_Convertible'],inplace=True)"
      ],
      "metadata": {
        "id": "oyNQv0-J4K5K"
      },
      "execution_count": 8,
      "outputs": []
    },
    {
      "cell_type": "code",
      "source": [
        "x3=df3.iloc[:,1:]\n",
        "y3=df3[\"Price\"]\n",
        "reg=linear_model.LinearRegression()\n",
        "reg.fit(x3,y3)"
      ],
      "metadata": {
        "colab": {
          "base_uri": "https://localhost:8080/"
        },
        "id": "odJqvxpF459v",
        "outputId": "192408d0-6051-4d7e-d145-92b2bd753915"
      },
      "execution_count": 9,
      "outputs": [
        {
          "output_type": "execute_result",
          "data": {
            "text/plain": [
              "LinearRegression()"
            ]
          },
          "metadata": {},
          "execution_count": 9
        }
      ]
    },
    {
      "cell_type": "code",
      "source": [
        "reg.score(x3,y3)"
      ],
      "metadata": {
        "colab": {
          "base_uri": "https://localhost:8080/"
        },
        "id": "AJN1fTvT6lXT",
        "outputId": "18462877-4195-435e-aa3a-19b9e9748998"
      },
      "execution_count": 10,
      "outputs": [
        {
          "output_type": "execute_result",
          "data": {
            "text/plain": [
              "0.9924082614213805"
            ]
          },
          "metadata": {},
          "execution_count": 10
        }
      ]
    },
    {
      "cell_type": "code",
      "source": [
        "f=[\"Mileage\",\"Cylinder\",\"Liter\",\"Doors\",\"Cruise\",\"Sound\",\"Leather\"]\n",
        "c = []   \n",
        "for i in range(1, 11):\n",
        "    c.append(itertools.combinations(f, i))  "
      ],
      "metadata": {
        "id": "47JXlLmc7GWB"
      },
      "execution_count": 11,
      "outputs": []
    },
    {
      "cell_type": "code",
      "source": [
        "s=0\n",
        "for j in c:\n",
        "    for k in j:\n",
        "        k=list(k)\n",
        "        x=df[k]\n",
        "        d=8  \n",
        "        for a in range(1,d):\n",
        "            m=pipeline.Pipeline([('pol',preprocessing.PolynomialFeatures(degree=a)),('lin',linear_model.LinearRegression(fit_intercept=False))])\n",
        "            m=m.fit(x,y2)\n",
        "        if s<m.score(x,y2):\n",
        "            s=m.score(x,y2)\n",
        "            g=k\n",
        "            n=a          \n",
        "print(s,g,n)"
      ],
      "metadata": {
        "colab": {
          "base_uri": "https://localhost:8080/"
        },
        "id": "IYmpy7Ud7HCk",
        "outputId": "011bddca-fcaf-4c7d-8ac8-3b54f8036a63"
      },
      "execution_count": 12,
      "outputs": [
        {
          "output_type": "stream",
          "name": "stdout",
          "text": [
            "0.9097847608795677 ['Cylinder', 'Liter', 'Doors', 'Cruise', 'Sound', 'Leather'] 7\n"
          ]
        }
      ]
    }
  ],
  "metadata": {
    "kernelspec": {
      "display_name": "Python 3",
      "language": "python",
      "name": "python3"
    },
    "language_info": {
      "codemirror_mode": {
        "name": "ipython",
        "version": 3
      },
      "file_extension": ".py",
      "mimetype": "text/x-python",
      "name": "python",
      "nbconvert_exporter": "python",
      "pygments_lexer": "ipython3",
      "version": "3.8.3"
    },
    "colab": {
      "name": "Machine_Learning2.ipynb",
      "provenance": []
    }
  },
  "nbformat": 4,
  "nbformat_minor": 0
}